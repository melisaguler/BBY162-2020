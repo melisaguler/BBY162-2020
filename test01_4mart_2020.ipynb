{
  "nbformat": 4,
  "nbformat_minor": 0,
  "metadata": {
    "colab": {
      "name": "test01/ 4mart 2020",
      "provenance": [],
      "collapsed_sections": [],
      "authorship_tag": "ABX9TyOcz4o7X3qhK7T9L8RRQ9Ru",
      "include_colab_link": true
    },
    "kernelspec": {
      "name": "python3",
      "display_name": "Python 3"
    }
  },
  "cells": [
    {
      "cell_type": "markdown",
      "metadata": {
        "id": "view-in-github",
        "colab_type": "text"
      },
      "source": [
        "<a href=\"https://colab.research.google.com/github/melisaguler/bby162/blob/master/test01_4mart_2020.ipynb\" target=\"_parent\"><img src=\"https://colab.research.google.com/assets/colab-badge.svg\" alt=\"Open In Colab\"/></a>"
      ]
    },
    {
      "cell_type": "code",
      "metadata": {
        "id": "fiRmUD8mYWAs",
        "colab_type": "code",
        "outputId": "63b066ae-f3ce-4c01-a0b6-42991abed609",
        "colab": {
          "base_uri": "https://localhost:8080/",
          "height": 34
        }
      },
      "source": [
        "# Bu kod merhaba dünya yazdıracak\n",
        "print(\"hello, world! My name is Melisa\")"
      ],
      "execution_count": 0,
      "outputs": [
        {
          "output_type": "stream",
          "text": [
            "hello, world! My name is Melisa\n"
          ],
          "name": "stdout"
        }
      ]
    },
    {
      "cell_type": "code",
      "metadata": {
        "colab_type": "code",
        "id": "upRJv5iaeG0M",
        "outputId": "ef2e8b37-db00-4d53-fdde-1047919d99e1",
        "colab": {
          "base_uri": "https://localhost:8080/",
          "height": 102
        }
      },
      "source": [
        "urunAdı = \"kalem\"\n",
        "butce = 180\n",
        "fıyat = 7\n",
        "kacadet = 20\n",
        "odeme = kacadet * fıyat\n",
        "print(odeme)\n",
        "print(\"bütçeniz:\" + str(butce))\n",
        "print(\"toplam fiyat: \" + str(odeme))\n",
        "sonuc = butce > odeme\n",
        "print(\"almak istediğiniz \"+ str(kacadet) + \" \" + urunAdı + \"  \" + str(odeme) + \" TL'dir.\")\n",
        "print( \"alabilir misiniz? \"+ str(sonuc))\n",
        "\n",
        "\n"
      ],
      "execution_count": 0,
      "outputs": [
        {
          "output_type": "stream",
          "text": [
            "140\n",
            "bütçeniz:180\n",
            "toplam fiyat: 140\n",
            "almak istediğiniz 20 kalem  140 TL'dir.\n",
            "alabilir misiniz? True\n"
          ],
          "name": "stdout"
        }
      ]
    }
  ]
}