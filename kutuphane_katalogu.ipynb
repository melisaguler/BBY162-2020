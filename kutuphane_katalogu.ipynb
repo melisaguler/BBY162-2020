from google.colab import drive
import sys

drive.mount("/gdrive",force_remount=True)

dosya_yolu = "/gdrive/My Drive/veritabani.txt"

def oku():
    dosya = open(dosya_yolu,"r",encoding= "UTF-8")
    kitaplar = []

    for bilgi in dosya.read().strip().split("\n"):
        eser_bilgisi = []
        for veri in bilgi.strip().split('|'):
            eser_bilgisi += [veri.strip()]
        kitaplar += [eser_bilgisi]

    dosya.close()
    return kitaplar


def yaz(bilgi = []):
    dosya = open(dosya_yolu,"a",encoding = "UTF-8")
    yazdir = str.format("{0}| {1}| {2}| {3}| {4}\n",bilgi[0],bilgi[1],bilgi[2],bilgi[3],bilgi[4])

    dosya.write(yazdir)
    dosya.close()

def kitap_arama(kitap_listesi,kelime = str,arama_tipi = int):
    sonuc = []
    for bilgi in kitap_listesi:
        if bilgi[arama_tipi] == kelime:
            sonuc = bilgi
            break
    return sonuc
def sil(kitap_listesi = list,eser_adi = str):
    bul = kitap_arama(kitap_listesi,eser_adi,0)
    if bul == []:
        return False
    else:
        kitap_listesi.remove(bul)
        yeni_veritabani = open(dosya_yolu,"w",encoding = "UTF-8")
        yazdir = ""
        for kitap in kitap_listesi:
            yazdir += f"{kitap[0]}| {kitap[1]}| {kitap[2]}| {kitap[3]}| {kitap[4]}\n"
        yeni_veritabani.write(yazdir.strip())
        yeni_veritabani.close()
        return True
def calistir():

    print("\t\t\tKutuphane Kataloguna hosgeldiniz")
    kullanici_adi = input("Kullanıcı adınızı giriniz: ")
    sifre = input("Şifrenizi giriniz: ")

    if kullanici_adi == "MelisaGuler" and sifre == "2618":
        print("\t\t\tHoş Geldiniz.")
        kitaplar = oku()
        while True:
            print()
            islem = input("Arama yapmak için (A)\nYeni eser eklemek için (E)\nEser silmek için (S)\nTüm eserleri listelemek için (T)\nÇıkmak için (Ç)\nTuşlarına basınız: ")
            if islem == "A" or islem == "a":
                bulunan = []
                while True:
                    print()
                    arama_tipi = input("Yazar bilgisine göre arama (Y)\nEser adına göre arama (E):\nISBN bilgisine göre arama (I)\nBasım yılı bilgisine göre arama (B)\nYayınevi bilgisine göre arama (V)\nGeri için (G)\nTuşlarına basınız: ")

                    if arama_tipi == "Y" or arama_tipi == "y":
                        bulunan = kitap_arama(kitaplar,input("\nYazar ismi giriniz: "),1)
                        break
                    elif arama_tipi == "E" or arama_tipi == "e":
                        bulunan = kitap_arama(kitaplar,input("\nEser ismi giriniz: "),0)
                        break
                    elif arama_tipi == "I" or arama_tipi == "ı":
                        bulunan = kitap_arama(kitaplar,input("\nISBN numarası giriniz: "),3)
                        break
                    elif arama_tipi == "B" or arama_tipi == "b":
                        bulunan = kitap_arama(kitaplar,input("\nBasım yılı giriniz: "),2)
                        break
                    elif arama_tipi == "V" or arama_tipi == "v":
                        bulunan = kitap_arama(kitaplar,input("\nYayınevi ismi giriniz: "),4)
                        break
                    elif arama_tipi == "G" or arama_tipi == "g":
                        bulunan = ["g"]
                        break
                    else:
                        print("Hatalı bir seçim yaptınız. ")
                if bulunan == ["g"]:
                    pass
                elif bulunan != []:
                    print("*"*20)
                    print(str.format("Eser ismi: {0}\nYazar ismi: {1}\nBasım yılı: {2}\nISBN: {3}\nYayınevi: {4}",bulunan[0],bulunan[1],bulunan[2],bulunan[3],bulunan[4]))
                    print("*"*20)
                else:
                    print("Kataloğumuzda herhangi bir bilgi bulunamadı. ")
            elif islem == "E" or islem == "e":
                print()
                eser_adi = input("Eser adı giriniz: ")
                yazar = input("Yazar adı giriniz: ")
                basim_yili = input("Basım yılı giriniz: ")
                isbn = input("ISBN numarası giriniz: ")
                yayinevi = input("Yayınevi adı giriniz: ")

                yaz([eser_adi,yazar,basim_yili,isbn,yayinevi])
                kitaplar = oku()
                print("\t\t\tEser başarılı bir şekilde eklendi.")
            elif islem == "S" or islem == "s":
                eser_adi = input("Silmek istediğiniz eserin adını giriniz: ")
                silindi = sil(kitaplar,eser_adi)
                if silindi == True:
                    print("\t\t\tEser başarılı bir şekilde silindi. ")
                else:
                    print("Eser kaydı bulunmadığından silinemedi. ")
            elif islem == "T" or islem == "t":
                print()
                for eser in kitaplar:
                    print(str.format("Eser ismi: {0}\nYazar ismi: {1}\nBasım yılı: {2}\nISBN: {3}\nYayınevi: {4}",eser[0],eser[1],eser[2],eser[3],eser[4]))
                    print("*"*20)
                print("Kataloğumuzda bulunan toplam eser sayısı:",len(kitaplar))
            elif islem == "Ç" or islem == "ç":
                print("\t\t\tİyi günler.")
                sys.exit()
            else:
                print("Hatalı bir seçim yaptınız. ")
    elif kullanici_adi == "Hayır":
        print("Programdan çıkış yapabilirsiniz. İyi günler.")

    else:
        print("Kullanıcı adı veya şifre hatalıdır. Lütfen tekrar deneyiniz. ")
        calistir()
calistir()
