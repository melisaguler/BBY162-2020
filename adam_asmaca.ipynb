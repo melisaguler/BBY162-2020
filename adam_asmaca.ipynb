{
  "nbformat": 4,
  "nbformat_minor": 0,
  "metadata": {
    "colab": {
      "name": "Copy of adam_asmaca.ipynb",
      "provenance": [],
      "authorship_tag": "ABX9TyOLAYEOelVOJ45LLgj31vaw",
      "include_colab_link": true
    },
    "kernelspec": {
      "name": "python3",
      "display_name": "Python 3"
    }
  },
  "cells": [
    {
      "cell_type": "markdown",
      "metadata": {
        "id": "view-in-github",
        "colab_type": "text"
      },
      "source": [
        "<a href=\"https://colab.research.google.com/github/melisaguler/bby162/blob/master/adam_asmaca.ipynb\" target=\"_parent\"><img src=\"https://colab.research.google.com/assets/colab-badge.svg\" alt=\"Open In Colab\"/></a>"
      ]
    },
    {
      "cell_type": "code",
      "metadata": {
        "id": "1k382btOiLf3",
        "colab_type": "code",
        "outputId": "01fa7493-0743-4f80-d329-9065d582a01a",
        "colab": {
          "base_uri": "https://localhost:8080/",
          "height": 73
        }
      },
      "source": [
        "import random\n",
        "\n",
        "kelimeler = [\"evdekal\" , \"corona\" , \"virüs\" , \"salgın\" ]\n",
        "kelime = random.choice(kelimeler) #Burada rastgele bir kelime seçtik\n",
        "tahminSayisi = 3\n",
        "harfler = [] #kullanicinin girdigi tum harfleri bu listeye ekleyerek tekrar ayni harf girilirse uyari verir.\n",
        "x = len(kelime)\n",
        "z = list('_' * x)\n",
        "print(' '.join(z), end='\\n')\n",
        "while tahminSayisi > 0:\n",
        "    y = input(\"Sevgili arkadaslar lutfen bir harf tahmin edin : \")\n",
        "    if y in harfler:\n",
        "        print(\"Lutfen daha once tahmin ettiginiz harfleri tekrar tahmin etmeyin...\")\n",
        "        \n",
        "\n",
        "    elif len(y) > 1:\n",
        "        print(\"Lutfen sadece bir harf girin.\")\n",
        "        \n",
        "\n",
        "    elif y not in kelime:   #girilen harf kelime icinde yoksa eger elif kullandım\n",
        "        tahminSayisi -= 1\n",
        "        print(\"yanlis tahmin!. {} tane tahmin hakkiniz kaldi.\".format(tahminSayisi))\n",
        "\n",
        "    else:                                     \n",
        "        for i in range(len(kelime)):\n",
        "            if y == kelime[i]:\n",
        "                print(\"Dogru Tahmin ettiniz bravo\")\n",
        "                z[i] = y\n",
        "                harfler.append(y)\n",
        "        print(' '.join(z), end='\\n')\n",
        "\n",
        "    cevap = input(\"Kelimenin tamamini tahmin etmek istiyor musunuz? ['e' veya 'h'] : \")\n",
        "\n",
        "    if cevap == \"e\":\n",
        "        tahmin = input(\"Kelimenin tamamini tahmin edebilirsiniz : \")\n",
        "        if tahmin == kelime:\n",
        "            print(\"Tebrikler bildiniz...\")\n",
        "            break\n",
        "        else:\n",
        "            tahminSayisi -= 1\n",
        "            print(\"Yanlis tahmin ettiniz. {} tane tahmin hakkiniz kaldi.\".format(tahminSayisi))\n",
        "\n",
        "\n",
        "    if tahminSayisi == 0:\n",
        "        print(\"Tahmin hakkiniz kalmadi. Kaybettiniz! Adam Asildi.\")\n",
        "        break"
      ],
      "execution_count": 0,
      "outputs": [
        {
          "output_type": "stream",
          "text": [
            "_ _ _ _ _\n"
          ],
          "name": "stdout"
        }
      ]
    }
  ]
}